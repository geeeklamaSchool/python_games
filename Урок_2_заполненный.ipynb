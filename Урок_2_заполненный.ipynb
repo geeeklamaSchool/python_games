{
 "cells": [
  {
   "cell_type": "markdown",
   "metadata": {},
   "source": [
    "![image](./Images/lesson2_rus_2.png)\n",
    "\n",
    "__<CENTER> <span style=\"color:goldenrod\">  Верни свой кошелек! </span><CENTER>__\n"
   ]
  },
  {
   "cell_type": "code",
   "execution_count": null,
   "metadata": {},
   "outputs": [],
   "source": [
    "#Ваш код тут\n",
    "\n",
    "#"
   ]
  },
  {
   "cell_type": "markdown",
   "metadata": {},
   "source": [
    "# __<span style = \"color: Maroon\"> Классы: Введение </span>__\n",
    "\n",
    "\n",
    "**Класс** - Конструктор или «шаблон» для объекта с определенными атрибутами (переменными и функциями)\n",
    "\n",
    "\n",
    "\n",
    "Название класса начинается с заглавной буквы.\n",
    "\n",
    "\n",
    "Создадим класс мяча:\n",
    "```python\n",
    "class Ball:\n",
    "    \"\"\"\n",
    "    This is a class that represents the ball.\n",
    "    \"\"\"\n",
    "```\n",
    "\n",
    "__<span style = \"color: MidnightBlue\"> P.S. </span>__ На острове мы не уважаем людей, которые не комментируют свой код!"
   ]
  },
  {
   "cell_type": "code",
   "execution_count": 1,
   "metadata": {},
   "outputs": [],
   "source": [
    "#Ваш код тут\n",
    "class Ball:\n",
    "    \"\"\"\n",
    "    Это класс, представляющий мяч.\n",
    "    \"\"\"\n",
    "#"
   ]
  },
  {
   "cell_type": "markdown",
   "metadata": {},
   "source": [
    "\n",
    "\n",
    "**Объект** - экземпляр класса\n",
    "\n",
    "Чтобы создать тип объекта:\n",
    "```python\n",
    "firstBall = Ball()\n",
    "```\n",
    "\n",
    "__<span style = \"color: MidnightBlue\"> P.S. </span>__ Не забывайте ставить круглые скобки после имени класса! На острове важен синтаксис!"
   ]
  },
  {
   "cell_type": "code",
   "execution_count": 2,
   "metadata": {},
   "outputs": [],
   "source": [
    "#Ваш код тут\n",
    "firstBall = Ball()\n",
    "#"
   ]
  },
  {
   "cell_type": "markdown",
   "metadata": {},
   "source": [
    "\n",
    "\n",
    "Запустите приведенный ниже код, чтобы изучить тип переменной _firstBall_."
   ]
  },
  {
   "cell_type": "code",
   "execution_count": 3,
   "metadata": {},
   "outputs": [
    {
     "name": "stdout",
     "output_type": "stream",
     "text": [
      "<class 'int'>\n",
      "<class 'str'>\n",
      "<class 'list'>\n",
      "<class '__main__.Ball'>\n"
     ]
    }
   ],
   "source": [
    "print(type(1))\n",
    "print(type('строка'))\n",
    "print(type([1,3,4]))\n",
    "print(type(firstBall))\n"
   ]
  },
  {
   "cell_type": "markdown",
   "metadata": {},
   "source": [
    "## <center><span style = \"color: goldenrod\">Что вы наблюдаете?</span>\n",
    "    \n",
    "\n",
    "    \n",
    "__<center> 1. Какие наблюдения основаны на приведенном выше коде? <br>__\n",
    "    \n",
    "\n",
    "__<center> 2. Какой тип у переменной _firstBall_?<br>__\n",
    "    \n",
    "\n",
    "\n",
    "__<center> 3. Поможет ли класс в выполнении вашей последней домашней работы? Как? <br>__\n",
    "    \n",
    "\n",
    "    \n",
    "![image](./Images/diss.png)"
   ]
  },
  {
   "cell_type": "markdown",
   "metadata": {},
   "source": [
    "# __<span style = \"color: Maroon\"> Классы: атрибуты </span>__\n",
    "\n",
    "\n",
    "\n",
    "Атрибуты класса могут включать переменные и функции.\n",
    "\n",
    "\n",
    "\n",
    "\n",
    "    \n",
    "- Атрибут класса - каждый объект, созданный с помощью класса, имеет этот атрибут\n",
    "- Атрибут экземпляра - уникальный атрибут для каждого объекта\n",
    "\n",
    "\n",
    "\n",
    "Атрибуты класса обозначаются через точку - `ObjectName.Attribute`. Пример: alist.append().\n",
    "\n",
    "\n",
    "\n",
    "В приведенном ниже коде мы добавили к нашему классу пару атрибутов. Обратите внимание на то, что отображается в коде."
   ]
  },
  {
   "cell_type": "code",
   "execution_count": 3,
   "metadata": {},
   "outputs": [
    {
     "name": "stdout",
     "output_type": "stream",
     "text": [
      "newBall - Цвет:  Синий , радиус:  5\n",
      "\n",
      "football - Цвет:  черный&белый , радиус:  5\n",
      "newBall - Цвет:  Синий , радиус:  5\n",
      "\n",
      "football - Цвет:  черный&белый , радиус:  8\n",
      "newBall - Цвет:  Синий , радиус:  8\n"
     ]
    }
   ],
   "source": [
    "class Ball:\n",
    "    \"\"\"\n",
    "    Это класс, представляющий мяч.\n",
    "    \"\"\"\n",
    "    color = 'Синий'\n",
    "    radius = 5\n",
    "    material = 'Кожа'\n",
    "    \n",
    "newBall = Ball()\n",
    "print('newBall - Цвет: ', newBall.color,', радиус: ', newBall.radius)\n",
    "print()\n",
    "\n",
    "football = Ball()\n",
    "football.color = 'черный&белый'\n",
    "print('football - Цвет: ', football.color,', радиус: ', football.radius)\n",
    "print('newBall - Цвет: ', newBall.color,', радиус: ', newBall.radius)\n",
    "print()\n",
    "\n",
    "Ball.radius = 8\n",
    "print('football - Цвет: ', football.color,', радиус: ', football.radius)\n",
    "print('newBall - Цвет: ', newBall.color,', радиус: ', newBall.radius)"
   ]
  },
  {
   "cell_type": "markdown",
   "metadata": {},
   "source": [
    "## <center> <span style = \"color: goldenrod\"> Что вы наблюдаете? </span>\n",
    "\n",
    " \n",
    "__<center> 1. Сколько объектов было создано? <br>__\n",
    "    \n",
    "\n",
    "    \n",
    "__<center> 2. Найдите переменные экземпляра и класса. <br>__\n",
    "    \n",
    "\n",
    "    \n",
    "__<center> 3. Как появилась переменная экземпляра? <br>__\n",
    "    \n",
    "\n",
    "\n",
    "__<center> 4. Что произойдет, если мы изменим переменную непосредственно в классе? <br>__\n",
    "    \n",
    "\n",
    "  \n",
    "\n",
    "![image](./Images/diss.png)"
   ]
  },
  {
   "cell_type": "markdown",
   "metadata": {},
   "source": [
    "\n",
    "\n",
    "`__init__()` - специальная функция, которая используется для инициализации класса, например, для присвоения значений переменным. Эта функция всегда выполняется после создания объекта.\n",
    "\n"
   ]
  },
  {
   "cell_type": "code",
   "execution_count": 4,
   "metadata": {},
   "outputs": [
    {
     "name": "stdout",
     "output_type": "stream",
     "text": [
      "ball_1 - Цвет:  Синий , радиус:  10 , материал:  Кожа\n",
      "ball_2 - Цвет:  Зеленый , радиус:  14 , материал:  Кожа\n",
      "ball_3 - Цвет:  Белый , радиус:  7 , материал:  Резина\n",
      "\n",
      "ball_1 - Цвет:  Черный , радиус:  10 , материал:  Кожа\n"
     ]
    }
   ],
   "source": [
    "class Ball:\n",
    "    \"\"\"\n",
    "    Это класс, представляющий мяч\n",
    "    \"\"\"\n",
    "    def __init__(self, color, radius):\n",
    "        \"\"\" Этот метод задает значения переменных в объекте \"\"\"\n",
    "        self.color = color\n",
    "        self.radius = radius\n",
    "        self.material = 'Кожа'\n",
    "\n",
    "ball_1 = Ball('Синий',10)\n",
    "ball_2 = Ball('Зеленый', 14)\n",
    "ball_3 = Ball('Белый', 7)\n",
    "ball_3.material = 'Резина'\n",
    "\n",
    "print('ball_1 - Цвет: ', ball_1.color,', радиус: ', ball_1.radius,', материал: ', ball_1.material)\n",
    "print('ball_2 - Цвет: ', ball_2.color,', радиус: ', ball_2.radius,', материал: ', ball_2.material)\n",
    "print('ball_3 - Цвет: ', ball_3.color,', радиус: ', ball_3.radius,', материал: ', ball_3.material)\n",
    "print()\n",
    "ball_1.color = 'Черный'\n",
    "print('ball_1 - Цвет: ', ball_1.color,', радиус: ', ball_1.radius,', материал: ', ball_1.material)"
   ]
  },
  {
   "cell_type": "markdown",
   "metadata": {},
   "source": [
    "\n",
    "\n",
    "Если мы создадим новый объект и забудем передать все параметры:"
   ]
  },
  {
   "cell_type": "code",
   "execution_count": 6,
   "metadata": {},
   "outputs": [
    {
     "ename": "TypeError",
     "evalue": "__init__() missing 1 required positional argument: 'radius'",
     "output_type": "error",
     "traceback": [
      "\u001b[1;31m---------------------------------------------------------------------------\u001b[0m",
      "\u001b[1;31mTypeError\u001b[0m                                 Traceback (most recent call last)",
      "\u001b[1;32m<ipython-input-6-20208683f36a>\u001b[0m in \u001b[0;36m<module>\u001b[1;34m\u001b[0m\n\u001b[1;32m----> 1\u001b[1;33m \u001b[0mball_4\u001b[0m \u001b[1;33m=\u001b[0m \u001b[0mBall\u001b[0m\u001b[1;33m(\u001b[0m\u001b[1;34m'Grey'\u001b[0m\u001b[1;33m)\u001b[0m\u001b[1;33m\u001b[0m\u001b[1;33m\u001b[0m\u001b[0m\n\u001b[0m",
      "\u001b[1;31mTypeError\u001b[0m: __init__() missing 1 required positional argument: 'radius'"
     ]
    }
   ],
   "source": [
    "ball_4 = Ball('Серый')"
   ]
  },
  {
   "cell_type": "markdown",
   "metadata": {},
   "source": [
    "![image](./Images/lama3.png) \n",
    "\n",
    "\n",
    "\n",
    "Параметр self сохраняет наши переменные в каждом объекте. Это должен быть первый параметр в любой функции внутри класса.\n",
    "\n",
    "Для доступа к переменной в функции - `self.variableName`\n",
    "\n",
    "\n",
    "\n",
    "\n",
    "**Метод** - любая функция в классе\n",
    "\n",
    "## <CENTER> <span style = \"color: Maroon\"> Задача 2.1: </span> Обновите класс _Ball_!\n",
    "\n",
    "Скучно просто знать некоторые факты о мяче. Добавьте метод вычисления объема мяча в класс _Ball_. Затем создайте экземпляр шара и вызовите метод вычисления объема. Отобразите значение, возвращаемое методом.\n",
    "\n",
    "__<span style = \"color: MidnightBlue\"> P.S. </span>__ Напоминание: дизайн функций важен! <br>\n",
    "__<span style = \"color: MidnightBlue\"> P.S. </span>__ При вызове метода класса мы должны использовать круглые скобки после метода, как если бы мы вызывали функцию. (Пример: имяОбъекта.имяМетода(параметры, если требуются) <br>\n",
    "\n",
    "\n"
   ]
  },
  {
   "cell_type": "code",
   "execution_count": 7,
   "metadata": {},
   "outputs": [
    {
     "data": {
      "text/plain": [
       "333038.14"
      ]
     },
     "execution_count": 7,
     "metadata": {},
     "output_type": "execute_result"
    }
   ],
   "source": [
    "#Закончите код ниже\n",
    "import math \n",
    "\n",
    "class Ball:\n",
    "    \"\"\"\n",
    "    Это класс, представляющий мяч\n",
    "    \"\"\"\n",
    "    def __init__(self, color, radius):\n",
    "        \"\"\" Этот метод задает значения переменных в объекте \"\"\"\n",
    "        self.color = color\n",
    "        self.radius = radius\n",
    "        self.material = 'Кожа'\n",
    "    \n",
    "    def volume(self):\n",
    "        \"\"\" Этот метод вычисляет объем мяча \"\"\"\n",
    "        return round((4/3)*math.pi*self.radius**3,2)\n",
    "    \n",
    "bigBall = Ball('Зеленый', 43)\n",
    "bigBall.volume()"
   ]
  },
  {
   "cell_type": "markdown",
   "metadata": {},
   "source": [
    "## <CENTER> Код начинает выглядеть красиво, правда? Вы заработали эти <span style = \"color: Goldenrod\"> 4 монеты </span>!\n",
    "\n",
    "**<CENTER> <span style = \"color: Goldenrod\"> Добавьте их в свой кошелек**"
   ]
  },
  {
   "cell_type": "code",
   "execution_count": null,
   "metadata": {},
   "outputs": [],
   "source": [
    "#Ваш код тут\n",
    "\n",
    "#"
   ]
  },
  {
   "cell_type": "markdown",
   "metadata": {},
   "source": [
    "\n",
    "\n",
    "# __<span style = \"color: Maroon\"> Библиотека arcade: класс _arcade.Window_ </span>__\n",
    "\n",
    "\n",
    "\n",
    "Мы использовали функцию open_window() - `arcade.open_window(ШИРИНА_ЭКРАНА, ВЫСОТА_ЭКРАНА, \"Пример рисования\")` <br>\n",
    "Сейчас мы будем использовать класс Window - `window = arcade.Window (ШИРИНА_ЭКРАНА, ВЫСОТА_ЭКРАНА, \"Пример рисования\")` <br>\n",
    "\n",
    "Класс Window имеет множество встроенных методов, которые можно вызывать в любое время. Однако, чтобы заставить их работать, нам придется изменить их и приспособить к нашим потребностям.\n",
    "\n",
    "[Здесь] (https://learn.arcade.academy/chapters/15_window_class/window_class.html) вы можете узнать больше о классе _arcade.Window_.\n",
    "\n",
    "\n",
    "\n",
    "Что необходимо в вашем игровом коде:\n",
    "- основная функция\n",
    "- Класс MyGame (наследник класса arcade.Window)\n",
    "- метод `__init()__` в каждом классе\n",
    "- Комментарии\n",
    "\n",
    "Обратите внимание на код ниже. Это суть вашей игры.\n",
    "\n",
    "\n",
    "<img src=\"./Images/code1.png\" width=\"100%\">\n",
    "\n",
    "Запустите код в ячейке ниже"
   ]
  },
  {
   "cell_type": "code",
   "execution_count": 8,
   "metadata": {},
   "outputs": [],
   "source": [
    "import arcade\n",
    "\n",
    "class HangmanGame(arcade.Window):\n",
    "    \"\"\"\n",
    "    Этот класс представляет игру\n",
    "    \"\"\"\n",
    "    def __init__(self, width, height, title):\n",
    "        \"\"\" Этот метод задает значения переменных в объекте \"\"\"\n",
    "        #Вызовите метод инициализации родительского класса\n",
    "        super().__init__(width, height, title)\n",
    "        \n",
    "\n",
    "def main():\n",
    "    window = HangmanGame(700, 700, \"Палач\")\n",
    "\n",
    "    arcade.run()\n",
    "\n",
    "\n",
    "main()"
   ]
  },
  {
   "cell_type": "markdown",
   "metadata": {},
   "source": [
    "\n",
    "\n",
    "Возьмите код в ячейке выше и добавьте (вызовите) функцию _arcade.set_background_color_ в методе инициализации <br>\n",
    "\n",
    "__<span style = \"color: MidnightBlue\"> P.S. </span>__ убедитесь, что вы закрыли окно, которое было открыто с кодом в ячейке выше!\n",
    "\n"
   ]
  },
  {
   "cell_type": "code",
   "execution_count": 9,
   "metadata": {},
   "outputs": [],
   "source": [
    "#Ваш код тут\n",
    "import arcade\n",
    "class HangmanGame(arcade.Window):\n",
    "    \"\"\"\n",
    "    Этот класс представляет игру\n",
    "    \"\"\"\n",
    "    def __init__(self, width, height, title):\n",
    "        \"\"\" Этот метод задает значения переменных в объекте \"\"\"\n",
    "        #Вызовите метод инициализации родительского класса\n",
    "        super().__init__(width, height, title)\n",
    "        \n",
    "        # Установите цвет фона\n",
    "        arcade.set_background_color(arcade.color.SKY_BLUE)\n",
    "\n",
    "def main():\n",
    "    window = HangmanGame(700, 700, \"Hangman\")\n",
    "\n",
    "    arcade.run()\n",
    "\n",
    "\n",
    "main()\n",
    "#"
   ]
  },
  {
   "cell_type": "markdown",
   "metadata": {},
   "source": [
    "\n",
    "\n",
    "_on_draw_ - встроенный метод в классе _arcade.Window_, в котором мы делаем все необходимые рисунки.\n",
    "\n",
    "\n",
    "\n",
    "В качестве домашнего задания вам придется сделать игру Палач! Код, который мы разрабатываем, станет частью вашего домашнего задания.\n",
    "\n",
    "Запустите приведенный ниже код, и вы увидите, какой рисунок мы добавили в код!"
   ]
  },
  {
   "cell_type": "code",
   "execution_count": 10,
   "metadata": {},
   "outputs": [],
   "source": [
    "import arcade\n",
    "\n",
    "class HangmanGame(arcade.Window):\n",
    "\n",
    "    def __init__(self, width, height, title):\n",
    "\n",
    "        #Вызовите метод инициализации родительского класса\n",
    "        super().__init__(width, height, title)\n",
    "\n",
    "        # Установите цвет фона\n",
    "        arcade.set_background_color(arcade.color.SKY_BLUE)\n",
    "\n",
    "    def on_draw(self):\n",
    "        \"\"\" Вызывается всякий раз, когда нам нужно нарисовать окно. \"\"\"\n",
    "        arcade.start_render()\n",
    "        #Код отрисовки\n",
    "        arcade.draw_rectangle_filled(150, 340, 10, 300, arcade.csscolor.BLACK)\n",
    "        arcade.draw_rectangle_filled(245, 490, 200, 10, arcade.csscolor.BLACK)\n",
    "        arcade.draw_rectangle_filled(350, 460, 10, 70, arcade.csscolor.BLACK)\n",
    "\n",
    "\n",
    "def main():\n",
    "    window = HangmanGame(700, 700, \"Палач\")\n",
    "\n",
    "    arcade.run()\n",
    "\n",
    "\n",
    "main()"
   ]
  },
  {
   "cell_type": "markdown",
   "metadata": {},
   "source": [
    "Каждый метод (функция) делает только одно!\n",
    "\n",
    "\n",
    "\n",
    "Обратите внимание на приведенный ниже код и запустите его."
   ]
  },
  {
   "cell_type": "code",
   "execution_count": 11,
   "metadata": {},
   "outputs": [],
   "source": [
    "import arcade \n",
    "\n",
    "class HangmanGame(arcade.Window):\n",
    "\n",
    "    def __init__(self, width, height, title):\n",
    "\n",
    "        #Вызовите метод инициализации родительского класса\n",
    "        super().__init__(width, height, title)\n",
    "\n",
    "        # Установите цвет фона\n",
    "        arcade.set_background_color(arcade.color.SKY_BLUE)\n",
    "\n",
    "    def draw_setup(self):\n",
    "        \"\"\" Этот метод имеет код рисования для настройки холста перед запуском игры. \"\"\"\n",
    "        arcade.draw_rectangle_filled(150, 340, 10, 300, arcade.csscolor.BLACK)\n",
    "        arcade.draw_rectangle_filled(245, 490, 200, 10, arcade.csscolor.BLACK)\n",
    "        arcade.draw_rectangle_filled(350, 460, 10, 70, arcade.csscolor.BLACK)\n",
    "        \n",
    "    def on_draw(self):\n",
    "        \"\"\" Вызывается всякий раз, когда нам нужно нарисовать окно. \"\"\"\n",
    "        arcade.start_render()\n",
    "        #Код отрисовки\n",
    "        self.draw_setup()\n",
    "\n",
    "\n",
    "def main():\n",
    "    window = HangmanGame(700, 700, \"Палач\")\n",
    "\n",
    "    arcade.run()\n",
    "\n",
    "\n",
    "main()"
   ]
  },
  {
   "cell_type": "markdown",
   "metadata": {},
   "source": [
    "\n",
    "\n",
    "# __<span style = \"color: Maroon\"> Библиотека arcade: взаимодействие с пользователем с клавиатуры </span>__\n",
    "\n",
    "\n",
    "\n",
    "Функции класса _arcade.Windows_ для взаимодействия с пользователем через клавиатуру:\n",
    "\n",
    "```python\n",
    "    def on_key_press(self, key, modifiers):\n",
    "        \"\"\" Вызывается всякий раз, когда пользователь нажимает клавишу. \"\"\"\n",
    "        if key == arcade.key.LEFT:\n",
    "            'код, который сообщает, что должно произойти, когда нажата клавиша ВЛЕВО.'\n",
    "        elif key == arcade.key.X:\n",
    "            'код, который сообщает, что должно произойти при нажатии клавиши X.'\n",
    "        elif key == arcade.key.TAB or key == arcade.key.SPACE:\n",
    "            'код, который сообщает, что должно произойти при нажатии клавиши TAB или клавиши ПРОБЕЛ.'\n",
    "            \n",
    "            \n",
    "    def on_key_release(self, key, modifiers):\n",
    "        \"\"\" Вызывается всякий раз, когда пользователь отпускает клавишу. \"\"\"\n",
    "        if key == arcade.key.LEFT:\n",
    "            'код, который сообщает, что должно произойти при отпускании клавиши ВЛЕВО'\n",
    "        elif key == arcade.key.X:\n",
    "            'код, который сообщает, что должно произойти при отпускании клавиши X'\n",
    "        elif key == arcade.key.TAB or key == arcade.key.SPACE:\n",
    "            'код, который сообщает, что должно произойти при отпускании клавиши TAB или клавиши ПРОБЕЛ'\n",
    "```\n",
    "\n",
    "\n",
    "\n",
    "Обратите внимание на код ниже. Мы добавили:\n",
    "1. переменные в функцию инициализации\n",
    "2. Метод _on_key_press_ и два условия (обновления переменных) для нажатий клавиш в этом методе\n",
    "3. В метод _on_draw_ мы добавили код, который рисует вперед или букву на основе значений переменных.\n",
    "\n",
    "\n",
    "\n",
    "Запустите код. Нажмите кнопку «w» и какую-нибудь кнопку рядом с «w». Наблюдайте, что происходит."
   ]
  },
  {
   "cell_type": "code",
   "execution_count": 1,
   "metadata": {},
   "outputs": [],
   "source": [
    "import arcade\n",
    "\n",
    "class HangmanGame(arcade.Window):\n",
    "\n",
    "    def __init__(self, width, height, title):\n",
    "\n",
    "        #Вызовите метод инициализации родительского класса\n",
    "        super().__init__(width, height, title)\n",
    "\n",
    "        # Установите цвет фона\n",
    "        arcade.set_background_color(arcade.color.SKY_BLUE)\n",
    "        \n",
    "        self.counter = 0\n",
    "        self.word = 'win'\n",
    "        self.guess = ''\n",
    "        self.gcount = 0\n",
    "\n",
    "    def draw_setup(self):\n",
    "        \"\"\" Этот метод имеет код рисования для настройки холста перед запуском игры. \"\"\"\n",
    "        arcade.draw_rectangle_filled(150, 340, 10, 300, arcade.csscolor.BLACK)\n",
    "        arcade.draw_rectangle_filled(245, 490, 200, 10, arcade.csscolor.BLACK)\n",
    "        arcade.draw_rectangle_filled(350, 460, 10, 70, arcade.csscolor.BLACK)\n",
    "        \n",
    "    def on_draw(self):\n",
    "        \"\"\" Вызывается всякий раз, когда нам нужно нарисовать окно. \"\"\"\n",
    "        arcade.start_render()\n",
    "        #Код отрисовки\n",
    "        self.draw_setup()\n",
    "        \n",
    "        if self.counter>0:\n",
    "            arcade.draw_circle_filled(350, 400, 30, arcade.csscolor.PEACH_PUFF)\n",
    "            \n",
    "        if self.word[0] in self.guess:\n",
    "            arcade.draw_text_2 (self.word[0], 250, 450, arcade.csscolor.YELLOW, font_name = 'calibri', bold = True,\n",
    "              font_size = 30) \n",
    "    \n",
    "    def on_key_press(self, key, modifiers):\n",
    "        \"\"\" Вызывается всякий раз, когда пользователь нажимает клавишу. \"\"\"\n",
    "        if key == arcade.key.W:\n",
    "            self.guess = self.guess + 'w'\n",
    "            self.gcount = self.gcount + 1 \n",
    "        if key != arcade.key.W or key != arcade.key.I or key != arcade.key.N:\n",
    "            self.counter = self.counter + 1\n",
    "\n",
    "\n",
    "def main():\n",
    "    window = HangmanGame(700, 700, \"Палач\")\n",
    "\n",
    "    arcade.run()\n",
    "\n",
    "\n",
    "main()"
   ]
  },
  {
   "cell_type": "markdown",
   "metadata": {},
   "source": [
    "![image](./Images/HW_v1.png)\n",
    "\n",
    "\n",
    "# <span style = \"color: Maroon\"> Домашнее задание 2: </span> Игра Палач\n",
    "В ячейке выше мы запустили код игры с палачом. Ваша задача - закончить игру! Вы можете взять шаблон выше и продолжить работу над ним. В игре должны быть:\n",
    "1. Строки для букв\n",
    "2. Если пользователь нажимает на букву, которая находится в угаданном слове, буква помещается в нужное место.\n",
    "3. Человек (палач) состоит из 7-10 частей, которые появляются одна за другой каждый раз, когда пользователь нажимает не ту букву.\n",
    "4. Фраза «Вы выиграли», когда пользователь выигрывает, или фраза «Игра окончена», когда пользователь проигрывает.\n",
    "\n",
    "Ваш код должен **как можно точнее соответствовать правилам проектирования**. <br>\n",
    "Существуют ограничения, например, метод _on_key_press_, который вы использовали без возможности многоразового использования. Вы устанавливаете слово, которое пользователь должен угадать, и вводите ключи (arcade.key.W) в методе вручную. Следовательно, если вы измените слово, которое пользователь должен угадать, вам необходимо вручную изменить ключи в методе. Для этой домашней работы это нормально.\n",
    "\n",
    "Некоторые подсказки:\n",
    "- Вы можете использовать счетчик, чтобы отслеживать, сколько ошибочных предположений сделал пользователь. Это может помочь вам с рисунком и фразой «вы проиграли»\n",
    "- Используйте циклы, чтобы сделать код короче и удобнее для чтения.\n",
    "\n",
    "Жители острова очень рады видеть различные варианты кода для игры! <br> <br>\n",
    "\n",
    "<center> Вы можете заработать максимум <span style = \"color: Goldenrod; font-weight: bold\"> 15 монет </span> за это домашнее задание. <br>\n",
    "    \n",
    "\n",
    "\n",
    "[Здесь] (https://arcade.academy/arcade.html) вы можете найти все классы и функции/методы в библиотеке arcade. Там вы можете найти методы, которые включены в класс _arcade.Window_ (используйте _ctrl + F_, чтобы найти класс). Приглашаем вас поэкспериментировать и использовать в своем коде больше классов или функций/методов. <br>\n",
    "    \n",
    "\n",
    "\n",
    "Сделайте игру с островным дизайном, и вы получите <span style = \"color: Goldenrod; font-weight: bold\"> дополнительные 2 монеты </span>\n",
    "    \n",
    "Также в начале следующего урока будет быстрое голосование за лучший игровой дизайн! Первое место получает <span style = \"color: Goldenrod; font-weight: bold\"> дополнительную монету </span>!\n",
    "    \n",
    "\n",
    "    \n"
   ]
  },
  {
   "cell_type": "code",
   "execution_count": 2,
   "metadata": {},
   "outputs": [],
   "source": [
    "import arcade\n",
    "\n",
    "class HangmanGame(arcade.Window):\n",
    "\n",
    "    def __init__(self, width, height, title):\n",
    "\n",
    "        #Вызовите метод инициализации родительского класса\n",
    "        super().__init__(width, height, title)\n",
    "\n",
    "        arcade.set_background_color(arcade.color.SKY_BLUE)\n",
    "        \n",
    "        self.counter = 0\n",
    "        self.word = 'win'\n",
    "        self.guess = ''\n",
    "        self.gcount = 0\n",
    "\n",
    "    def draw_setup(self):\n",
    "        \"\"\" Этот метод имеет код рисования для настройки холста перед запуском игры. \"\"\"\n",
    "        arcade.draw_rectangle_filled(150, 340, 10, 300, arcade.csscolor.BLACK)\n",
    "        arcade.draw_rectangle_filled(245, 490, 200, 10, arcade.csscolor.BLACK)\n",
    "        arcade.draw_rectangle_filled(350, 460, 10, 70, arcade.csscolor.BLACK)\n",
    "        \n",
    "        for i in range(len(self.word)):\n",
    "            arcade.draw_line (250+40*i, 550, 270+40*i, 550, arcade.csscolor.BLACK, line_width = 5)\n",
    "        \n",
    "        \n",
    "    def draw_text(self):\n",
    "        \"\"\" Этот метод отвечает за прорисовку букв слова\"\"\"\n",
    "        for i in range(len(self.word)):\n",
    "            if self.word[i] in self.guess:\n",
    "                arcade.draw_text_2 (self.word[i], 250+40*i, 550, arcade.csscolor.YELLOW, font_name = 'calibri', \n",
    "                                    bold = True, font_size = 30) \n",
    "            \n",
    "            \n",
    "    def person_draw(self):\n",
    "        \"\"\" Этот метод отвечает за рисование человека (палача)\"\"\"\n",
    "        if self.counter>0:\n",
    "            arcade.draw_circle_filled(350, 400, 30, arcade.csscolor.PEACH_PUFF)\n",
    "        if self.counter >1:\n",
    "            arcade.draw_rectangle_filled(350, 320, 20, 100, arcade.csscolor.BLACK)           \n",
    "        if self.counter >2:\n",
    "            arcade.draw_rectangle_filled(365, 340, 10, 45, arcade.csscolor.BLACK,210)\n",
    "        if self.counter >3:\n",
    "            arcade.draw_rectangle_filled(335, 340, 10, 45, arcade.csscolor.BLACK,330)\n",
    "        if self.counter >4:\n",
    "            arcade.draw_rectangle_filled(365, 250, 10, 60, arcade.csscolor.BLACK,30)\n",
    "        if self.counter >5:\n",
    "            arcade.draw_rectangle_filled(335, 250, 10, 60, arcade.csscolor.BLACK,330)\n",
    "            \n",
    "            \n",
    "    def on_draw(self):\n",
    "        \"\"\" Вызывается всякий раз, когда нам нужно нарисовать окно. \"\"\"\n",
    "        arcade.start_render()\n",
    "        \n",
    "        self.draw_setup()\n",
    "        self.draw_text()\n",
    "        self.person_draw()\n",
    "        \n",
    "        if self.counter >6:    \n",
    "            arcade.draw_text_2 ('Игра окончена', 250, 350, arcade.csscolor.YELLOW, font_name = 'calibri', bold = True,\n",
    "                    font_size = 50)\n",
    "        if self.gcount == 3:\n",
    "            arcade.draw_text_2 ('Вы выиграли', 250, 350, arcade.csscolor.YELLOW, font_name = 'calibri', bold = True,\n",
    "                    font_size = 50)\n",
    "    \n",
    "\n",
    "\n",
    "    def on_key_press(self, key, modifiers):\n",
    "        \"\"\" Вызывается всякий раз, когда пользователь нажимает клавишу. \"\"\"\n",
    "        if key == arcade.key.W:\n",
    "            self.guess = self.guess + 'w'\n",
    "            self.gcount = self.gcount + 1 \n",
    "        elif key == arcade.key.I:\n",
    "            self.guess = self.guess + 'i'\n",
    "            self.gcount = self.gcount + 1 \n",
    "        elif key == arcade.key.N:\n",
    "            self.guess = self.guess + 'n'\n",
    "            self.gcount = self.gcount + 1 \n",
    "        else:\n",
    "            self.counter = self.counter + 1\n",
    "\n",
    "\n",
    "def main():\n",
    "    window = HangmanGame(700, 700, \"Палач\")\n",
    "    arcade.run()\n",
    "\n",
    "\n",
    "main()"
   ]
  },
  {
   "cell_type": "code",
   "execution_count": null,
   "metadata": {},
   "outputs": [],
   "source": []
  }
 ],
 "metadata": {
  "kernelspec": {
   "display_name": "Python 3 (ipykernel)",
   "language": "python",
   "name": "python3"
  },
  "language_info": {
   "codemirror_mode": {
    "name": "ipython",
    "version": 3
   },
   "file_extension": ".py",
   "mimetype": "text/x-python",
   "name": "python",
   "nbconvert_exporter": "python",
   "pygments_lexer": "ipython3",
   "version": "3.9.5"
  }
 },
 "nbformat": 4,
 "nbformat_minor": 4
}
