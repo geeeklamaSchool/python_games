{
 "cells": [
  {
   "attachments": {},
   "cell_type": "markdown",
   "metadata": {
    "id": "6tavR5LSvOKc"
   },
   "source": [
    "![lesson1_rus](Images/lesson1_rus_2.png)\n",
    "<br><br>\n",
    "\n",
    " ## <center><span style=\"color:Goldenrod\">Что вы помните?</span> \n",
    "**<center> 1. Что вы знаете о программировании на Python? <br> 2. Есть ли у вас опыт работы с библиотекой Arcade? <br>**\n",
    "\n",
    "![image](./Images/diss.png)"
   ]
  },
  {
   "cell_type": "markdown",
   "metadata": {
    "id": "apD8WEBZvOKi"
   },
   "source": [
    "Прежде чем мы начнем повторение, давайте рассмотрим несколько основных советов по работе в Jupyter Notebook. <br>\n",
    "\n",
    "- Для запуска кода в ячейке используйте кнопки Shift + Enter на клавиатуре <br>\n",
    "  \n",
    "\n",
    "- Используйте `#` для комментариев\n",
    "\n",
    "- Как сделать вывод:\n",
    "\n",
    "```python\n",
    "print('Привет, жители острова!') # печатает 'Привет, жители острова!' (без кавычек)\n",
    "```\n",
    "Скопируйте приведенный выше пример и запустите код."
   ]
  },
  {
   "cell_type": "code",
   "execution_count": 1,
   "metadata": {
    "id": "mSoa2tgWvOKj"
   },
   "outputs": [],
   "source": [
    "# ваш код здесь\n",
    "\n",
    "print('Hello, islanders!') # печатает 'Hello, islanders!' (без кавычек))\n",
    "\n",
    "#"
   ]
  },
  {
   "cell_type": "markdown",
   "metadata": {
    "id": "ca4QZwA6vOKl"
   },
   "source": [
    "\n",
    "# **<span style=\"color:Maroon\"> Повторение**\n",
    "    \n",
    "### <center> <span style=\"color:Maroon\"> Переменные\n",
    "    \n",
    "Начнем с самого начала, с переменных. Мы обсудим, как называть переменные, а затем перейдем к типам данных в переменных.\n",
    "\n",
    "В Python у нас есть переменные, в которых мы можем хранить данные.\n",
    "\n",
    "Как назвать переменные:\n",
    "   1. Начните с буквы или символа подчеркивания (_).\n",
    "   2. Используйте только буквенно-цифровые символы (A – z и 0–9) и подчеркивание (_).\n",
    "   3. Имя переменной не должно совпадать с ключевыми словами в Python.\n",
    "    \n",
    "<img src=\"./Images/table.jpg\" width=\"60%\">\n",
    "\n",
    "__<span style=\"color:MidnightBlue\">P.S.</span>__  в Jupyter, если слово выделено другим цветом, вы не можете использовать его для имени переменной\n",
    "\n",
    "Чтобы присвоить данные переменной, используйте знак `=`, например:\n",
    "```python\n",
    "переменная = 10\n",
    "```\n",
    "\n",
    "\n",
    "В ячейке ниже создайте переменную, где в имени первый сивол это число.\n",
    "\n"
   ]
  },
  {
   "cell_type": "code",
   "execution_count": 2,
   "metadata": {
    "id": "IX2ets7vvOKm"
   },
   "outputs": [
    {
     "ename": "SyntaxError",
     "evalue": "invalid syntax (1320253064.py, line 1)",
     "output_type": "error",
     "traceback": [
      "\u001b[0;36m  File \u001b[0;32m\"/tmp/ipykernel_1898689/1320253064.py\"\u001b[0;36m, line \u001b[0;32m1\u001b[0m\n\u001b[0;31m    2var = 10\u001b[0m\n\u001b[0m     ^\u001b[0m\n\u001b[0;31mSyntaxError\u001b[0m\u001b[0;31m:\u001b[0m invalid syntax\n"
     ]
    }
   ],
   "source": [
    "2var = 10"
   ]
  },
  {
   "cell_type": "markdown",
   "metadata": {
    "id": "SRwR9vrJvOKm"
   },
   "source": [
    "Да, мы получили *синтаксическую ошибку*. И посмотрите на цвет двойки. Он выделяется автоматически, это показывает нам неправильное название.\n",
    "\n",
    "![image](./Images/lama3.png)"
   ]
  },
  {
   "cell_type": "markdown",
   "metadata": {
    "id": "4nNqqs8GvOKn"
   },
   "source": [
    "### <center> <span style=\"color:Maroon\"> Типы данных\n",
    "\n",
    "\n",
    "Числовые типы данных:\n",
    "   - *`integer`* - целое число (не дробная часть), которое может быть положительным (10), отрицательным (-7) или нулем (0).\n",
    "   - *`float`* - числа с дробными значениями, например 0,5, -4,6.\n",
    "\n",
    "Типы данных последовательности:\n",
    "   - *`строка`* - последовательность символов, используемая для представления текста. Это может быть одно слово, предложение или целая книга. Чтобы присвоить строку, символы должны быть заключены в кавычки.\n",
    "   - *`list`* - упорядоченный и изменяемый набор элементов произвольных типов. В Python списки записываются в квадратные скобки, а элементы разделяются запятыми.\n",
    "\n",
    "\n",
    "Как присвоить переменной разные типы данных: <br>\n",
    "\n",
    "```python\n",
    "number = 12.57 # переменная float равна 12,57\n",
    "string = 'Какой-то текст' # строковая переменная в кавычках\n",
    "list1 = ['привет', 1,2,'лама'] # список переменных в квадратных скобках, элементы разделяются запятыми\n",
    "```  \n",
    "\n",
    "Как проверить тип переменной:\n",
    "\n",
    "```python\n",
    "type(number) # проверка типа - напечатает float \n",
    "``` \n",
    "\n",
    "Назначьте несколько переменных, а затем распечатайте их типы."
   ]
  },
  {
   "cell_type": "code",
   "execution_count": null,
   "metadata": {
    "id": "1tFzmjaTvOKp"
   },
   "outputs": [],
   "source": [
    "number = .22 # переменная с плавающей запятой равна 0,22\n",
    "string = 'Какой-то текст' # строковая переменная в кавычках\n",
    "list1 = ['привет', '1224', 34, 'лама'] # список переменных в квадратных скобках, элементы разделяются запятыми\n",
    "print(type(number), type(string), type(list1)) # проверка типов"
   ]
  },
  {
   "cell_type": "markdown",
   "metadata": {
    "id": "9yWmPIQnvOKq"
   },
   "source": [
    "### <center> <span style=\"color:Maroon\"> Операторы </span>\n",
    "\n",
    "Числа в Python ничем не отличаются от обычных чисел.\n",
    "    \n",
    "Какие есть операции с числами:\n",
    "\n",
    "  - Арифметика (`+`, `-`, `/`, `*`, `**`  возведение в степень, `//` целочисленное диление, `%` модуль, `abs(num)` - абсолютное значение)\n",
    "  - Сравнение (`>`/`<` меньше/больше, `<=`/`>=` меньше/больше или равно, `==` равно, `!=`неравно, *`x is y`* -  один и тот же обьект ...) - вернет результат *True* или *False*\n",
    "\n",
    "Теперь мы назначим некоторые числовые переменные и будем с ними работать.\n"
   ]
  },
  {
   "cell_type": "code",
   "execution_count": null,
   "metadata": {
    "id": "54TPLkG9vOKr"
   },
   "outputs": [],
   "source": [
    "# зададим значение нескольким переменным\n",
    "num1 = .78\n",
    "num2 = 3.\n",
    "\n",
    "# базовая математика \n",
    "a = num1 + num2 # сумма\n",
    "b = -(num2) # изменение знака\n",
    "c = (a*b - a**b) % 5 # длинное математическое выражение\n",
    "print('a =',a,'b =',b,'c =',c) # напечатать результаты\n"
   ]
  },
  {
   "cell_type": "markdown",
   "metadata": {
    "id": "m-le2KkCvOKs"
   },
   "source": [
    "### <center> <span style=\"color:Maroon\"> Строки и списки </span>\n",
    "\n",
    "Строка и список - это последовательности. Таким образом, у них обоих есть индексы и их можно разбить на промежутки.\n",
    "    \n",
    "\n",
    "Как использовать индексы для разбития на промежутки:<br>\n",
    " - __Indexes__:\n",
    "    \n",
    "   - `list1[0]` - элемент с индексом 0 - первым в списке будет 1\n",
    "   - `list1[-2]` - элемент с индексом -2 - значение будет 4.5\n",
    "\n",
    "<img src=\"./Images/Indexes.jpg\" width=\"40%\">\n",
    "\n",
    "\n",
    " - __Деление на промежутки__:\n",
    "\n",
    "   - `list1[2:5]` - элементы с третьего по пятый: [3, 'дерево', 4.5]\n",
    "   - `list1[:2]` -элементы перед вторым (включая): [1, 4]\n",
    "   - `list1[-2:]` - также допускаются отрицательные индексы - начинаем расчет с конца - два с конца: [4.5, 6]\n",
    "   - `list1[-6:-3]` - с первого по третий: [1, 4, 3]\n",
    "\n",
    "<img src=\"./Images/slices.jpg\" width=\"40%\">\n",
    "\n",
    " \n",
    "\n",
    "__<span style=\"color:MidnightBlue\">P.S.</span>__ Нумерация начинается с нуля.\n",
    "\n",
    "\n",
    "Сделаем из следующей строки и напишем новую фразу «Счастливые жители острова Питон».\n",
    "\n",
    "```python\n",
    "new_str = 'Счастливые жители'\n",
    "new_lst = [1,2,3,'острова','картошка','вишня', 'Питон', 6,7,'от']\n",
    "``` \n"
   ]
  },
  {
   "cell_type": "code",
   "execution_count": 5,
   "metadata": {
    "colab": {
     "base_uri": "https://localhost:8080/"
    },
    "id": "8TNkDI5vvOKt",
    "outputId": "55346dd6-8837-4c33-ec73-3eee3296029c"
   },
   "outputs": [
    {
     "name": "stdout",
     "output_type": "stream",
     "text": [
      "Счастливые жители острова Питон\n"
     ]
    }
   ],
   "source": [
    "# использовать новую строку и список\n",
    "new_str = 'Счастливые жители'\n",
    "new_lst = [1,2,3,'острова','картошка','вишня', 'Питон', 6,7,'от']\n",
    "\n",
    "\n",
    "new = new_str[:6] + new_str[-11:] +' '+ new_lst[3] +' '+ new_lst[-4]\n",
    "print(new) # проверка "
   ]
  },
  {
   "cell_type": "markdown",
   "metadata": {
    "id": "QYc-CdJYvOKu"
   },
   "source": [
    "\n",
    "Более того, существует довольно большое количество * `методов` * (встроенных функций,в которые можно передать значения), которые мы можем применить к строке и к списку.\n",
    "\n",
    "\n",
    "**Методы для строк**:\n",
    "<br>\n",
    "\n",
    "- `len(string)` - количество всех элементов в строке\n",
    "- `string.replace(old_value,new_value)` - возвращает строку, в которой указанное значение заменяется указанным значением \n",
    "- `string.split(separator)` - разбивает строку по указанному разделителю и возвращает список \n",
    "- `string.join()` - присоединяет элементы итерации к концу строки (поскольку параметр может быть значением, которое должно быть помещено между ними)\n",
    "- `string.count(value)` - возвращает количество раз, когда указанное значение встречается в строке\n",
    "- `string.find(value)` - ищет в строке указанное значение и возвращает позицию, где оно было найдено\n",
    "<br>  <br> \n",
    "\n",
    "**Методы для списков**:\n",
    "\n",
    "\n",
    "- `len(list)` - количество всех элементов в списке\n",
    "- `list.append(element)` - добавляет элемент в конец списка\n",
    "- `list.count(value)` - возвращает количество элементов с указанным значением\n",
    "- `list.remove(value)` - удаляет первый элемент с указанным значением\n",
    "- `list.sort()`\t- сортирует список\n",
    " \n",
    "\n",
    "Попробуем несколько способов.\n"
   ]
  },
  {
   "cell_type": "code",
   "execution_count": null,
   "metadata": {
    "id": "Aqf4SlyRvOKv"
   },
   "outputs": [],
   "source": [
    "# теперь давайте создадим новый список и проверим несколько методов\n",
    "n_lst = [3,5,6,1,7,4,6]\n",
    "n_lst.sort() # сортирует список # обратите внимание: мы не должны назначать начальную переменную, метод изменяет список без нее\n",
    "print(n_lst) # проверка\n",
    "n_lst.remove(6) # удаляет первый элемент со значением 6\n",
    "print(n_lst) # проверка"
   ]
  },
  {
   "cell_type": "markdown",
   "metadata": {
    "id": "uxbKG6YPvOKv"
   },
   "source": [
    "### <center> <span style=\"color:Maroon\"> Изменить тип данных </span>\n",
    "\n",
    "В некоторых случаях вам потребуется изменить тип переменной.\n",
    "\n",
    "Как изменить тип переменной:\n",
    "<br>\n",
    "\n",
    "- `int(x)` - преобразовать x в целое число (обычно из строки)\n",
    "- `float(x)` - преобразовать x в float (обычно из строки)\n",
    "- `str(x)` - преобразовать x в строку (обычно из числа)\n",
    "- `list(s)` - преобразовать x в список (обычно из строки)\n",
    "\n",
    "\n",
    "Рассмотрим несколько примеров.\n"
   ]
  },
  {
   "cell_type": "code",
   "execution_count": 3,
   "metadata": {
    "id": "ac-mArykvOKw"
   },
   "outputs": [
    {
     "data": {
      "text/plain": [
       "['С', 'о', 'л', 'н', 'е', 'ч', 'н', 'ы', 'й', 'О', 'с', 'т', 'р', 'о', 'в']"
      ]
     },
     "execution_count": 3,
     "metadata": {},
     "output_type": "execute_result"
    }
   ],
   "source": [
    "# давайте создадим строку\n",
    "string = 'СолнечныйОстров'\n",
    "# преобразовать ее в список\n",
    "list(string) # проверка"
   ]
  },
  {
   "cell_type": "code",
   "execution_count": 4,
   "metadata": {
    "id": "09YTwx6VvOKw"
   },
   "outputs": [
    {
     "ename": "ValueError",
     "evalue": "invalid literal for int() with base 10: 'СолнечныйОстров'",
     "output_type": "error",
     "traceback": [
      "\u001b[0;31m---------------------------------------------------------------------------\u001b[0m",
      "\u001b[0;31mValueError\u001b[0m                                Traceback (most recent call last)",
      "\u001b[0;32m/tmp/ipykernel_1898689/4020480022.py\u001b[0m in \u001b[0;36m<module>\u001b[0;34m\u001b[0m\n\u001b[1;32m      1\u001b[0m \u001b[0;31m# что произойдет, если в строке нет чисел, которые нужно преобразовать в числовые? Давайте проверим\u001b[0m\u001b[0;34m\u001b[0m\u001b[0;34m\u001b[0m\u001b[0;34m\u001b[0m\u001b[0m\n\u001b[0;32m----> 2\u001b[0;31m \u001b[0mint\u001b[0m\u001b[0;34m(\u001b[0m\u001b[0mstring\u001b[0m\u001b[0;34m)\u001b[0m\u001b[0;34m\u001b[0m\u001b[0;34m\u001b[0m\u001b[0m\n\u001b[0m",
      "\u001b[0;31mValueError\u001b[0m: invalid literal for int() with base 10: 'СолнечныйОстров'"
     ]
    }
   ],
   "source": [
    "# что произойдет, если в строке нет чисел, которые нужно преобразовать в числовые? Давайте проверим\n",
    "int(string)"
   ]
  },
  {
   "cell_type": "markdown",
   "metadata": {
    "id": "99MbjvSivOKx"
   },
   "source": [
    "Очевидно, ValueError. Строка должна состоять из чисел, чтобы преобразовать ее в число.\n",
    "\n",
    "![image](./Images/lama3.png)\n",
    "\n",
    "\n",
    "# **<span style=\"color:Maroon\"> Библиотека Arcade**\n",
    "    \n",
    "Во время этого курса мы будем работать в библиотеке под названием *`Arcade`*, которая позволяет нам создавать **2D-видеоигры!** Здесь есть [ссылка](https://arcade.academy/) на веб-сайт этой библиотеки, где вы можете найти методы и встроенные функции, а также некоторые примеры их использования.\n",
    "\n",
    "- __Чтобы начать работу с библиотекой Arcade__, нам необходимо импортировать ее: <br>\n",
    "\n",
    "```python\n",
    "import arcade # перед работой с методами и функциями этой библиотеки используем 'import name_of_the_library'\n",
    "```\n",
    "- __Чтобы открыть холст,__ используйте эту функцию из библиотеки arcade: `arcade.open_window(width, height, title)`. Эта функция принимает три параметра, которые мы помещаем в prentices. Описание параметра для этой функции показано на рисунке ниже:\n",
    "![image](./Images/WinPar.svg)\n",
    "Размер окна измеряется в пикселях. <br>\n",
    "\n",
    "- __Чтобы холст оставался открытым__:\n",
    "``` python\n",
    "arcade.run() # должен быть в конце всего кода. Позволяет держать холст открытым, пока пользователь его не закроет\n",
    "```\n",
    "__<span style = \"color: MidnightBlue\"> P.S. </span>__ __<span style = \"color: Red\"> Закройте окно холста </span>__ перед повторным запуском кода холста! \n",
    "\n",
    "\n",
    "- __Изменение цвета фона:__\n",
    "```python\n",
    "arcade.set_background_color(color) # в скобках ставим название цвета (например, arcade.csscolor.RED)\n",
    "``` \n",
    "\n",
    "- __Чтобы выбрать цвет,__ мы используем либо `csscolor`, либо `color`. Это два пакета цветов в библиотеке arcade.\n",
    "Чтобы увидеть доступные цвета и их названия, перейдите на [эту ссылку для csscolor](https://arcade.academy/arcade.csscolor.html) пакета и [эту ссылку для color](https://arcade.academy/arcade.color.html) пакета.\n",
    "\n",
    "- __Чтобы что-то появилось на холсте:__\n",
    "```python\n",
    "arcade.start_render()\n",
    "# код рисования будет здесь\n",
    "arcade.finish_render()\n",
    "```\n",
    "\n",
    " \n",
    "__<span style = \"color: MidnightBlue\"> P.S. </span>__ __<span style = \"color: Red\"> Пожалуйста, следуйте этим советам, чтобы запустить ячейку с аркадным кодом:__\n",
    "    \n",
    "   - каждая ячейка должна начинаться со строки `import arcade`\n",
    "   - перед повторным запуском ячейки с кодом перезапустите ядро. В строке меню выше: `Kernel → Restart and Clear Output`\n",
    "    "
   ]
  },
  {
   "cell_type": "code",
   "execution_count": null,
   "metadata": {
    "id": "z7lp9qt4vOKy"
   },
   "outputs": [],
   "source": [
    "import arcade # импортировать библиотеку\n",
    "\n",
    "#Открой окно\n",
    "arcade.open_window(600, 600, 'Мой первый холст')\n",
    "\n",
    "#Задать цвет фона\n",
    "arcade.set_background_color(arcade.csscolor.LIGHT_SKY_BLUE)\n",
    "\n",
    "arcade.start_render()\n",
    "# код для рисования будет тут\n",
    "arcade.finish_render()\n",
    "\n",
    "#запустить окно, пока пользователь не закроет его\n",
    "arcade.run()"
   ]
  },
  {
   "cell_type": "markdown",
   "metadata": {
    "id": "I_Trob8dvOKy"
   },
   "source": [
    "\n",
    "Нарисуем прямоугольник!\n",
    "\n",
    "`arcade.draw_rectangle_filled (center_x: float, center_y: float, width: float, height: float, color :, tilt_angle: float = 0)` - функция для рисования закрашенного прямоугольника <br> \n",
    "\n",
    "  \n",
    "- __Первые два параметра:__ x и y - координаты центра прямоугольника. Левый нижний угол - координата (0,0).\n",
    "- __Следующие два параметра:__ width и height позволяют установить размер прямоугольника\n",
    "- __Пятый параметр:__ цвет\n",
    "- __Последний параметр:__ выбираем угол наклона прямоугольника (в градусах). Это предопределенный параметр.\n",
    "\n",
    "\n",
    "Поэксперементируйте с `draw_rectangle_filled` функцией ниже<br> \n",
    "\n",
    "__<span style=\"color:MidnightBlue\">P.S.</span>__ Не забудьте перезапустить kernel перед запуском ячейки.\n"
   ]
  },
  {
   "cell_type": "code",
   "execution_count": null,
   "metadata": {
    "id": "DJ4eBRzYvOKz"
   },
   "outputs": [],
   "source": [
    "import arcade\n",
    "#Открыть окно программы\n",
    "arcade.open_window(600, 600, 'Мой первый холст')\n",
    "#Задать задний фон\n",
    "arcade.set_background_color(arcade.csscolor.SKY_BLUE)\n",
    "\n",
    "arcade.start_render()\n",
    "\n",
    "# Нарисовать прямоугольник\n",
    "arcade.draw_rectangle_filled(300, 50, 200, 50, arcade.csscolor.GREEN)\n",
    "\n",
    "arcade.finish_render()\n",
    "\n",
    "#запустить окно, пока пользователь не закроет его\n",
    "arcade.run()"
   ]
  },
  {
   "cell_type": "markdown",
   "metadata": {
    "id": "VUgcqCguvOKz"
   },
   "source": [
    "\n",
    "Потрясающие! Теперь можно приступить к рисованию интересных картинок.\n",
    "\n",
    "### **<span style=\"color:Maroon\"> Функции рисования библиотеки Arcade:</span>** \n",
    "\n",
    "  - **дуга закрашенная:** <span style=\"color:darkorange\"> arcade.draw_arc_filled </span> (center_x: float, center_y: float, width: float, height: float, color, start_angle: float, end_angle: float, tilt_angle: float = 0, num_segments: int = 128)      \n",
    "  - **контур дуги:** <span style=\"color:darkorange\"> arcade.draw_arc_outline </span> (center_x: float, center_y: float, width: float, height: float, color, start_angle: float, end_angle: float, border_width: float = 1, tilt_angle: float = 0, num_segments: int = 128)\n",
    "\n",
    "  -  **круг закрашенный:** <span style=\"color:darkorange\"> arcade.draw_circle_filled </span> (center_x: float, center_y: float, radius: float, color, num_segments: int = - 1)\n",
    "  - **контур круга** <span style=\"color:darkorange\"> arcade.draw_circle_outline </span> (center_x: float, center_y: float, radius: float, color, border_width: float = 1, num_segments: int = - 1)\n",
    "\n",
    "  - **эллипс закрашенный:** <span style=\"color:darkorange\"> arcade.draw_ellipse_filled </span> (center_x: float, center_y: float, width: float, height: float, color, tilt_angle: float = 0, num_segments: int = - 1)\n",
    "  - **контур эллипса:** <span style=\"color:darkorange\"> arcade.draw_ellipse_outline </span> (center_x: float, center_y: float, width: float, height: float, color, border_width: float = 1, tilt_angle: float = 0, num_segments: int = - 1)\n",
    "\n",
    "  - **линия:** <span style=\"color:darkorange\"> arcade.draw_line </span> (start_x: float, start_y: float, end_x: float, end_y: float, color, line_width: float = 1)\n",
    "  - **точка:** <span style=\"color:darkorange\"> arcade.draw_point </span> (x: float, y: float, color, size: float)[source]\n",
    "\n",
    "  - **прямоугольник закрашенный:** <span style=\"color:darkorange\"> arcade.draw_rectangle_filled </span> (center_x: float, center_y: float, width: float, height: float, color, tilt_angle: float = 0)\n",
    "  - **контур прямоугольника:** <span style=\"color:darkorange\"> arcade.draw_rectangle_outline </span> (center_x: float, center_y: float, width: float, height: float, color, border_width: float = 1, tilt_angle: float = 0)\n",
    "\n",
    "  - **текст:** <span style=\"color:darkorange\"> arcade.draw_text_2 </span> (text: str, start_x: float, start_y: float, color, font_size: float = 12, width: int = 0, align: str = 'left', font_name: Union[str, Tuple[str, …]] = 'calibri', 'arial', bold: bool = False, italic: bool = False, anchor_x: str = 'left', anchor_y: str = 'baseline', rotation: float = 0)\n",
    "\n",
    "  - **триугольник закрашенный:** <span style=\"color:darkorange\"> arcade.draw_triangle_filled </span> (x1: float, y1: float, x2: float, y2: float, x3: float, y3: float, color)\n",
    "  - **контур триугольника:** <span style=\"color:darkorange\"> arcade.draw_triangle_outline </span> (x1: float, y1: float, x2: float, y2: float, x3: float, y3: float, color, border_width: float = 1)\n",
    "\n",
    "С помощью этих функций рисования мы можем нарисовать всю картину!\n",
    "\n",
    "Выполните ячейку ниже, чтобы проверить пример с бунгало на острове Python."
   ]
  },
  {
   "cell_type": "code",
   "execution_count": null,
   "metadata": {
    "id": "eQHRsagdvOK0"
   },
   "outputs": [],
   "source": [
    "import arcade # импортировать библиотеку\n",
    "#Открыть окно\n",
    "arcade.open_window(700, 700, 'Остров Python') # это стандартная система координат: (0; 0) - нижний левый угол\n",
    "# (700,700) - верхний правый угол\n",
    "\n",
    "#Установите фон - небо\n",
    "arcade.set_background_color(arcade.csscolor.SKY_BLUE)\n",
    "\n",
    "arcade.start_render()\n",
    "\n",
    "#земля - пляж острова\n",
    "arcade.draw_ellipse_filled(350, 0, 700, 500, arcade.csscolor.SANDY_BROWN)\n",
    "\n",
    "# бунгало\n",
    "arcade.draw_rectangle_filled(350, 300, 200, 200, arcade.csscolor.CHOCOLATE)\n",
    "arcade.draw_triangle_filled(220, 400, 480, 400, 350, 500, arcade.csscolor.OLIVE)\n",
    "arcade.draw_rectangle_filled(350, 300, 80, 80, arcade.csscolor.NAVAJO_WHITE)\n",
    "arcade.draw_line(350, 340, 350, 260, arcade.csscolor.CHOCOLATE, 10)\n",
    "arcade.draw_line(310, 300, 390, 300, arcade.csscolor.CHOCOLATE, 10)\n",
    "\n",
    "#пальма\n",
    "arcade.draw_triangle_filled(550, 100, 580, 100, 570, 550, arcade.csscolor.SIENNA)\n",
    "arcade.draw_arc_filled(570, 550, 350, 100, arcade.csscolor.DARK_GREEN, 160,180)\n",
    "arcade.draw_arc_filled(570, 550, 350, 100, arcade.csscolor.DARK_GREEN, 120,140)\n",
    "arcade.draw_arc_filled(570, 550, 200, 100, arcade.csscolor.DARK_GREEN, 80,100)\n",
    "arcade.draw_arc_filled(570, 550, 200, 100, arcade.csscolor.DARK_GREEN, 50,70)\n",
    "arcade.draw_arc_filled(570, 550, 200, 100, arcade.csscolor.DARK_GREEN, 340,360)\n",
    "arcade.draw_arc_filled(570, 550, 200, 100, arcade.csscolor.DARK_GREEN, 200,230)\n",
    "\n",
    "#Солнце\n",
    "arcade.draw_circle_filled(150, 600, 80, arcade.csscolor.YELLOW)\n",
    "\n",
    "arcade.finish_render()\n",
    "\n",
    "#запустить окно, пока пользователь не закроет его\n",
    "arcade.run()"
   ]
  },
  {
   "cell_type": "markdown",
   "metadata": {
    "id": "BvcQ0xFUvOK1"
   },
   "source": [
    "\n",
    "# **<span style=\"color:Maroon\"> Условия**\n",
    "\n",
    "Условный оператор *`if-elif-else`* - это основной инструмент в Python. Синтаксис приведен ниже, а логика объяснена в комментариях.\n",
    "    \n",
    "- Как использовать условный оператор:\n",
    "```python\n",
    "if test1: # условное выражение\n",
    "    state1 # часть, которая выполняется, если оператор if имеет значение True\n",
    "elif test2: # необязательная часть еще одного условного выражения, если первый оператор if имеет значение False\n",
    "    state2 # часть, которая выполняется, если elif выражение истинно\n",
    "else: # необязательная часть, которая выполняется, если оператор if и оператор elif имеют значение False\n",
    "    state3\n",
    "``` \n",
    "Например:\n",
    "\n",
    "```python\n",
    "a = int(input()) # входные данные от пользователя преобразованы в целое число\n",
    "if a < -5: # проверка if-выражения, что <-5\n",
    "    print('Низкий') # если это правда, программа печатает \"Низкий\"\n",
    "elif -5 <= a <= 5: # если первый if-оператор ложен, мы проверяем еще один оператор: -5 <= a <= 5\n",
    "    print('Средний') # если второй оператор истинен, программа печатает 'Средний'\n",
    "else: # если оба оператора if ложны\n",
    "    print('Высокий') # затем программа напечатает 'High'\n",
    "``` \n",
    "\n",
    "\n",
    "Перейдите к приведенному ниже примеру. В качестве дополнительного условия мы проверим, делится ли введенное число на 3 или 2.\n",
    "\n",
    "    "
   ]
  },
  {
   "cell_type": "code",
   "execution_count": null,
   "metadata": {
    "id": "G3jQihWavOK1"
   },
   "outputs": [],
   "source": [
    "# условный оператор:проверка на деление на 3 или на 2\n",
    "a = int(input()) # входные данные от пользователя преобразованы в целое число\n",
    "if a % 3 == 0: # проверка if выражение, что a делится на 3\n",
    "    print('число делится на 3') # если это истинно, программа печатает это сообщение\n",
    "elif a % 2 == 0: # если первый if-оператор ложен, мы проверяем еще один оператор: что a делится на 2\n",
    "    print('число делится на 2') # если второй оператор истинен, программа печатает «число делится на 2»\n",
    "else: # если все операторы if / elif ложны\n",
    "    print('число не делится на 3 или 2') # затем программа печатает \"число не делится на 3 или 2\"\n",
    "#"
   ]
  },
  {
   "cell_type": "markdown",
   "metadata": {
    "id": "X5dp3yHdvOK2"
   },
   "source": [
    "# <span style=\"color:Maroon\"> Циклы\n",
    "    \n",
    "### <center> <span style=\"color:Maroon\"> _Цикл for_ </span>\n",
    "\n",
    "Цикл *for* очень часто используется в Python. Он выполняет указанный набор инструкций указанное количество раз или по указанному списку значений.\n",
    "\n",
    "`range(start, stop, step)` - встроенная функция, которая возвращает последовательность чисел, начиная с *start* (0 по умолчанию), и увеличивается на *step* (1 по умолчанию) и останавливается перед указанным числом *stop*.\n",
    "\n",
    "- Как писать *for цикл* используя *range()*:\n",
    "```python\n",
    "x = range(6) # составить последовательность чисел от 0 до 5 на 1, используя диапазон\n",
    "for n in x: # n пройдёт через каждый элемент числа этой последовательности\n",
    "    print(n) # в результате мы получим распечатанный столбец элементов этой последовательности\n",
    "``` \n",
    "\n",
    "- Как написать *for цикл* для  *списков* и *строк*:\n",
    "```python\n",
    "x = 'hello' # строка(последовальность символов)\n",
    "for n in x: # n пройдет через каждый элемент в x\n",
    "    print(n) # в результате мы получим распечатанный столбец элементов этой последовательности\n",
    "``` \n",
    "\n",
    "Посмотрим пример использования *for цикла* для списка."
   ]
  },
  {
   "cell_type": "code",
   "execution_count": null,
   "metadata": {
    "id": "ijoNf8GYvOK3"
   },
   "outputs": [],
   "source": [
    "# использование цикла с диапазоном\n",
    "for i in range(5):\n",
    "    print(i)\n",
    "\n",
    "# использование цикла for для списка\n",
    "lst = [ 'На',  'острове', 'Python', 'живут', 'прекрасные', 'жители']\n",
    "for i in lst:\n",
    "    print(i) # каждое слово-элемент списка будет печататься с новой строки\n",
    "    "
   ]
  },
  {
   "cell_type": "markdown",
   "metadata": {
    "id": "V1jSaninvOK3"
   },
   "source": [
    "## <CENTER><span style=\"color:Maroon\"> Задача 1.1:</span> Морской бой</span>\n",
    "\n",
    "Представьте, что холст - это ваша сетка $10 * 10 $ (если размер холста $700 * 700$ , то каждая ячейка будет $70 * 70 $). На холсте следует расположить кораблики:\n",
    "\n",
    "| Название       | Размер (в клетках)  |\n",
    "| ------------- | ------------- |\n",
    "| Перевозчик    | 5             |\n",
    "| Линкор        | 4             |\n",
    "| Крейсер       | 3             |\n",
    "| Подводная лодка| 3             |\n",
    "| Эсминец       | 2             |\n",
    "\n",
    "Каждый корабль занимает ряд последовательных квадратов на сетке, расположенных либо по горизонтали, либо по вертикали. Количество квадратов для каждого корабля определяется типом корабля. Корабли не могут перекрываться.\n",
    "\n",
    "__<span style=\"color:MidnightBlue\">P.S.</span>__ Следуйте следующим советам:\n",
    "\n",
    "- Делайте одно дело за раз = нарисуйте один кусок, запустите код и посмотрите, как он выглядит на холсте. \n",
    "- Нарисуйте сетку на листе бумаги и вычислите приблизительные или даже точные координаты.\n",
    "- Используйте это, чтобы нарисовать сетку:\n",
    "```python\n",
    "for i in range(70,700,70):\n",
    "    arcade.draw_line(i, 0, i, 700, arcade.csscolor.MEDIUM_BLUE, 1)\n",
    "    arcade.draw_line(0, i, 700, i, arcade.csscolor.MEDIUM_BLUE, 1)\n",
    "``` \n",
    "Сетка с кораблями будет выглядеть примерно так:\n",
    "\n",
    "<img src=\"./Images/battleship.JPG\" width=\"30%\">"
   ]
  },
  {
   "cell_type": "code",
   "execution_count": null,
   "metadata": {
    "id": "ikMzDuXrvOK4"
   },
   "outputs": [],
   "source": [
    "# ваш код здесь\n",
    "\n",
    "import arcade\n",
    "#открываем окно\n",
    "arcade.open_window(700, 700, 'Battleship') # это стандартная система координат: (0;0) это левый нижний угол\n",
    "# (700,700) это правый верхний угол\n",
    "\n",
    "#задаем задний фон - море\n",
    "arcade.set_background_color(arcade.csscolor.SKY_BLUE)\n",
    "\n",
    "arcade.start_render()\n",
    "\n",
    "# отрисовываем сетку\n",
    "for i in range(70,700,70):\n",
    "    arcade.draw_line(i, 0, i, 700, arcade.csscolor.MEDIUM_BLUE, 1)\n",
    "    arcade.draw_line(0, i, 700, i, arcade.csscolor.MEDIUM_BLUE, 1)\n",
    "\n",
    "# расстановка кораблей\n",
    "\n",
    "# Перевозчик\n",
    "arcade.draw_rectangle_filled(175,245 , 70, 350, arcade.csscolor.LIGHT_SLATE_GREY)\n",
    "\n",
    "# Линкор \n",
    "arcade.draw_rectangle_filled(420, 385, 280, 70, arcade.csscolor.LIGHT_SLATE_GREY)\n",
    "\n",
    "# Крейсер\n",
    "arcade.draw_rectangle_filled(525, 525, 210, 70, arcade.csscolor.LIGHT_SLATE_GREY)\n",
    "\n",
    "# Подводная лодка\n",
    "arcade.draw_rectangle_filled(525, 665, 210, 70, arcade.csscolor.LIGHT_SLATE_GREY)\n",
    "\n",
    "# Эсминец\n",
    "arcade.draw_rectangle_filled(105, 630, 70, 140, arcade.csscolor.LIGHT_SLATE_GREY)\n",
    "\n",
    "\n",
    "arcade.finish_render()\n",
    "\n",
    "#запустить окно, пока пользователь не закроет его\n",
    "arcade.run()\n",
    "\n",
    "# "
   ]
  },
  {
   "cell_type": "markdown",
   "metadata": {
    "id": "DgBG21qrvOK4"
   },
   "source": [
    "## <CENTER>Поздравляем, с вашими первыми <span style=\"color:Goldenrod\">4 монетками</span> на этом курсе! \n",
    "\n",
    "Теперь вам нужно убедиться, что вы не потеряете свои монеты. Нам нужен кошелек, в котором мы можем хранить монеты. Используйте переменную _WV_ для хранения ваших монет:\n",
    "    \n",
    "```python\n",
    "WV = 4\n",
    "```\n",
    " \n",
    "Затем после каждого испытания вы можете обновить его значение с помощью\n",
    "```python \n",
    "WV = WV + 'какое-то количество монет, которые вы заработали'\n",
    "```\n",
    "    "
   ]
  },
  {
   "cell_type": "code",
   "execution_count": null,
   "metadata": {
    "id": "Lh58b1wtvOK4"
   },
   "outputs": [],
   "source": [
    "# Ваш код здесь\n",
    "WV = 4\n",
    "#"
   ]
  },
  {
   "cell_type": "markdown",
   "metadata": {
    "id": "Dj2EKIyWvOK5"
   },
   "source": [
    "### <center> <span style=\"color:Maroon\"> _Цикл While_ </span>\n",
    "       \n",
    "Цикл *while* позволяет выполнять ту же последовательность действий, пока проверяемое условие истинно.\n",
    "\n",
    "Синтаксис *цикла while*:\n",
    "```python\n",
    "k = 0 # создать переменную для использования в цикле\n",
    "while k < 10: # условие для блока цикла\n",
    "    print(k) # он будет печатать числа в столбце от 0 до 9\n",
    "    k += 1 # увеличивает переменную 1. Когда k равно 10, цикл останавливается.\n",
    "``` \n",
    "             \n",
    "\n",
    "Посмотрите на пример в ячейке ниже.\n"
   ]
  },
  {
   "cell_type": "code",
   "execution_count": null,
   "metadata": {
    "id": "FN2fDNwjvOK5"
   },
   "outputs": [],
   "source": [
    "k = 10 # начальное значение для итераций\n",
    "while k < 100: # условие для блока цикла\n",
    "    print(k) # мы хотим получить столбец k-чисел \n",
    "    k += 10 # шаг k-чисел\n",
    "# давайте проверим, что 40 должно быть последним числом из-за прерывания"
   ]
  },
  {
   "cell_type": "markdown",
   "metadata": {
    "id": "GRlaP8QkvOK5"
   },
   "source": [
    "\n",
    "# **<span style=\"color:Maroon\"> Функции**\n",
    "\n",
    "*`функция`* - это блок кода, который запускается только при его вызове.\n",
    "\n",
    "\n",
    "Как писать функции:\n",
    "```python\n",
    "def sum_of_2(x, y): # сделать функцию суммирования 2 переменных, они могут быть числами, строками или списками\n",
    "    return x + y # чтобы сделать функцию, мы пишем: def название_функции(параметры): ... затем: return (результат)\n",
    "``` \n",
    "\n",
    "Чтобы вызвать функцию, мы пишем имя функции с аргументами в скобках.\n",
    "```python\n",
    "sum_of_2(3, 7) # функция, чтобы получить сумму 3 и 7, в результате мы получим 10\n",
    "```  \n",
    "    \n",
    "### <span style=\"color:Maroon\"> <center> Критерии создания функций </span>\n",
    "\n",
    "1. __Функция должна быть многоразовой__ - используйте параметры для обобщения функции\n",
    "2. __Функция выполняет только одно действие__ - одна функция должна выполнять одно действие, например, найти среднее значение. \n",
    "3. __Название функции состоит только из букв, цифр и знаков подчеркивания..__ Имя функции должно начинаться с буквы\n",
    "4. __Функция должна включать комментарии__ которые объясняют цель функции и результат\n",
    "  \n",
    "В качестве примера рассмотрим функцию со списком в качестве аргумента, которая вернет новый список, состоящий из двойных элементов исходного списка.\n"
   ]
  },
  {
   "cell_type": "code",
   "execution_count": null,
   "metadata": {
    "id": "k1bRUqPmvOK6"
   },
   "outputs": [],
   "source": [
    "def Double(list1): \n",
    "    \"\"\"Создает новый список, в котором дублируется каждый элемент\"\"\"\n",
    "    list2 = [] # создать пустой список, который мы вернем с двойными элементами исходного списка\n",
    "    for i in list1: # пройти через каждый элемент в начальном списке\n",
    "        list2.append(i) # добавить элемент два раза в новый список\n",
    "        list2.append(i)\n",
    "    return list2 # в результате мы получим новый список с двойными элементами исходного списка\n",
    "\n",
    "print(double([1,2,3,4,5,6])) # проверка с помощью print для вызова функции"
   ]
  },
  {
   "cell_type": "markdown",
   "metadata": {
    "id": "oL0kkQkGvOK6"
   },
   "source": [
    "## <center><span style=\"color:goldenrod\">Что вы наблюдаете?</span> \n",
    "__<center> 1.Можно ли использовать эту функцию повторно? Почему?<br>__\n",
    "__<center>2. Эта функция делает только одно действие? Какое?<br>__\n",
    "__<center>3. Правильное ли название у этой функции? Почему?<br>__\n",
    "__<center>4. Есть ли у функции комментарий? <br>__\n",
    "\n",
    "![image](./Images/diss.png)    \n"
   ]
  },
  {
   "cell_type": "markdown",
   "metadata": {
    "id": "Q9Ak648wvOK7"
   },
   "source": [
    "## <CENTER><span style=\"color:Maroon\"> Дополнительное задание 1.2:</span>  Узор</span>\n",
    "\n",
    "Напишите 2 функции для рисования фигур на холсте (одну для квадратов и одну для кругов) с такими аргументами (x, y, n), где *x, y* - координаты центра, *n* - количество повторяющихся фигур. Фигуры должны равномерно увеличиваться в размерах. Чтобы выполнить эту задачу, вам нужно будет использовать циклы в своих функциях.\n",
    "\n",
    "Например, в return функции круга вы должны получить n (количество) концентрических (с одним центром) кругов, как на изображении ниже.\n",
    "\n",
    "<img src=\"./Images/pattern.JPG\" width=\"30%\">"
   ]
  },
  {
   "cell_type": "code",
   "execution_count": null,
   "metadata": {
    "id": "GH4Ugu7ivOK7"
   },
   "outputs": [],
   "source": [
    "#Ваш код здесь\n",
    "\n",
    "import arcade\n",
    "\n",
    "def square(x,y,n): \n",
    "    \"\"\"функция повторения квадратов\"\"\"\n",
    "    for i in range(n):\n",
    "        arcade.draw_rectangle_outline(x,y, i*10, i*10, arcade.csscolor.YELLOW)\n",
    "    return print('квадраты готовы')\n",
    "\n",
    "def circle(x,y,n): \n",
    "    \"\"\"функция повторения кругов\"\"\"\n",
    "    for i in range(n):\n",
    "        arcade.draw_circle_outline(x, y, i*10, arcade.csscolor.RED)\n",
    "    return print('круги готовы')\n",
    "    \n",
    "#открываем окно\n",
    "arcade.open_window(700, 700, 'Pattern') # это стандартная система координат: (0;0) - левый нижний угол\n",
    "# (700,700) - правый верхний угол\n",
    "\n",
    "#задаем задний фон \n",
    "arcade.set_background_color(arcade.csscolor.SKY_BLUE)\n",
    "\n",
    "arcade.start_render()\n",
    "\n",
    "# отрисовываем шаблоны\n",
    "square(300,300, 10)\n",
    "circle(500,500,10)\n",
    "square(100,100, 5)\n",
    "circle(600,600,5)\n",
    "square(400,400, 20)\n",
    "circle(200,200,30)\n",
    "\n",
    "arcade.finish_render()\n",
    "\n",
    "#запустить окно, пока пользователь не закроет его\n",
    "arcade.run()    \n",
    "\n",
    "#"
   ]
  },
  {
   "cell_type": "markdown",
   "metadata": {
    "id": "__1Azr5RvOK7"
   },
   "source": [
    "\n",
    "## <CENTER>Вы заработали <span style=\"color:Goldenrod\">5 монеток</span>!\n",
    "    \n",
    "**<CENTER> <span style=\"color:Goldenrod\">Добавьте их в свой кошелек в ячейке ниже <br> </span>**\n",
    "    "
   ]
  },
  {
   "cell_type": "code",
   "execution_count": null,
   "metadata": {
    "id": "fzLjAFppvOK7"
   },
   "outputs": [],
   "source": [
    "# ваш код здесь\n",
    "\n",
    "#"
   ]
  },
  {
   "cell_type": "markdown",
   "metadata": {
    "id": "_kTit0r5vOK8"
   },
   "source": [
    "![image](./Images/HW_v1.png)\n",
    "# <span style=\"color:Maroon\">Домашнее задание 2:</span> Шашки <br>\n",
    "\n",
    "Используя темы этой тетради, нарисуйте на холсте начальную позицию шашек на шахматной доске 8 × 8. Шахматная доска состоит из 64 квадратов (8 × 8) чередующихся темных и светлых цветов. Вы должны нарисовать темные квадраты на светлом фоне с помощью функции. Также напишите функцию для каждого цвета *checkers_black (white)*, которая поместит на доску все шашки одного цвета в исходную позицию. Таким образом, у вас будет 3 функции:\n",
    "- checkers_black (черные шашки)\n",
    "- checkers_white (белые шашки)\n",
    "- board(доска)<br>\n",
    "\n",
    "Эти функции написаны вне аркадной библиотеки «setup». Они вызываются там, где мы бы поместили код для рисования.\n",
    "\n",
    "\n",
    "__<span style=\"color:MidnightBlue\">P.S.</span>__ Сделайте холст 800 × 800 пикселей.<br><br>\n",
    "\n",
    "<center> Вы можете заработать до <span style=\"color:Goldenrod;font-weight:bold\">5 монеток</span> за эту домашнюю работу. <br> <br> \n",
    "    \n",
    "Вот как может выглядеть ваша доска:\n",
    "\n",
    "<img src=\"./Images/checkers.JPG\" width=\"30%\">\n",
    "\n",
    "<br>\n"
   ]
  },
  {
   "cell_type": "code",
   "execution_count": null,
   "metadata": {
    "id": "dpVjLJwYvOK8"
   },
   "outputs": [],
   "source": [
    "# ваш код здесь\n",
    "\n",
    "import arcade\n",
    "\n",
    "def checkers_black(): \n",
    "    \"\"\"нарисовать черные шашки здесь\"\"\"\n",
    "    for i in range(50,700,200): # все шашки должны быть на черных квадратах\n",
    "        d = 0\n",
    "        for k in range(550,800,100):\n",
    "            if d%2 == 0:\n",
    "                arcade.draw_circle_filled(i+100,k, 45, arcade.csscolor.BLACK)\n",
    "            else:\n",
    "                arcade.draw_circle_filled(i,k, 45, arcade.csscolor.BLACK)\n",
    "            d +=1\n",
    "    \n",
    "    return print('черные шашки готовы')\n",
    "\n",
    "def checkers_white(): \n",
    "    \"\"\"нарисовать белые шашки здесь\"\"\"\n",
    "    for i in range(50,700,200): # все шашки должны быть на черных квадратах\n",
    "        d = 1\n",
    "        for k in range(50,300,100):\n",
    "            if d%2 == 0:\n",
    "                arcade.draw_circle_filled(i+100,k, 45, arcade.csscolor.WHITE)\n",
    "            else:\n",
    "                arcade.draw_circle_filled(i,k, 45, arcade.csscolor.WHITE)\n",
    "            d +=1\n",
    "    return print('белые шашки готовы')\n",
    "\n",
    "def board():\n",
    "    \"\"\"нарисовать черные квадраты для доски здесь\"\"\"\n",
    "    d = 1\n",
    "    for i in range(50,700,200):\n",
    "        for k in range(50,800,100):\n",
    "            if d%2 == 0:\n",
    "                arcade.draw_rectangle_filled(i+100,k, 100, 100, arcade.csscolor.GREY)\n",
    "            else:\n",
    "                arcade.draw_rectangle_filled(i,k, 100, 100, arcade.csscolor.GREY)\n",
    "            d +=1\n",
    "    \n",
    "    \n",
    "#открываем окно\n",
    "arcade.open_window(800, 800, 'Сheckers') # это стандартная система координат: (0; 0) - нижний левый угол\n",
    "# (800,800) - верхний правый угол\n",
    "\n",
    "#задаем задний фон\n",
    "arcade.set_background_color(arcade.csscolor.BLANCHED_ALMOND)\n",
    "arcade.start_render()\n",
    "\n",
    "# вызываем функции\n",
    "board()\n",
    "checkers_white()\n",
    "checkers_black()\n",
    "\n",
    "arcade.finish_render()\n",
    "\n",
    "#запустить окно, пока пользователь не закроет его\n",
    "arcade.run() \n",
    "\n",
    "#"
   ]
  },
  {
   "cell_type": "markdown",
   "metadata": {
    "id": "ljlI5nT_vOK8"
   },
   "source": [
    "# **<span style=\"color:Maroon\"> Дополнительная тема: операторы Break и continue**\n",
    "\n",
    "\n",
    "Внутри блока цикла довольно часто используются операторы *break* и *continue*.\n",
    "\n",
    "Это полезные выражение для использования внутри цикла:\n",
    "\n",
    "- *`continue`* - оператор, который может остановить текущую итерацию и продолжить следующую.\n",
    "\n",
    "  ```python\n",
    "  for i in 'Остров':\n",
    "        if i == 'о': # пройти через символы строки, проверяя, есть ли 'о'\n",
    "\n",
    "            continue # он пропустит итерацию с символом 'a'\n",
    "        print(i) # поскольку есть буква 'о', программа будет печатать 'стрв' каждым символом в своей строке\n",
    "```\n",
    "\n",
    "- *`break`* - оператор, который может остановить цикл до того, как он пройдёт через все элементы. \n",
    "  ```python\n",
    "  for i in 'Остров':\n",
    "        if i == 'a':  # пройти через символы строки, проверяя, есть ли 'о'\n",
    "            break # он остановит цикл, если есть символ 'о'\n",
    "        print(i) # так как есть буква 'о', поэтому программа будет печатать только 'стрв' каждым символом в своей строке\n",
    "```  \n",
    "\n",
    "Давайте рассмотрим небольшой пример списка."
   ]
  },
  {
   "cell_type": "code",
   "execution_count": null,
   "metadata": {
    "id": "QbfAxLs_vOK9"
   },
   "outputs": [],
   "source": [
    "for i in ['Не','Солнечный','Остров']: # цикл for для списка\n",
    "    if i == 'Не': # пройти через элементы, проверяя, есть ли 'Не'\n",
    "        continue # он пропустит итерацию с элементом 'Не'\n",
    "    print(i) # так как есть элемент 'Не', давайте проверим, что программа напечатает"
   ]
  }
 ],
 "metadata": {
  "accelerator": "GPU",
  "colab": {
   "collapsed_sections": [],
   "name": "Урок 1 - Повторение.ipynb",
   "provenance": []
  },
  "kernelspec": {
   "display_name": "Python 3 (ipykernel)",
   "language": "python",
   "name": "python3"
  },
  "language_info": {
   "codemirror_mode": {
    "name": "ipython",
    "version": 3
   },
   "file_extension": ".py",
   "mimetype": "text/x-python",
   "name": "python",
   "nbconvert_exporter": "python",
   "pygments_lexer": "ipython3",
   "version": "3.9.5"
  }
 },
 "nbformat": 4,
 "nbformat_minor": 1
}
